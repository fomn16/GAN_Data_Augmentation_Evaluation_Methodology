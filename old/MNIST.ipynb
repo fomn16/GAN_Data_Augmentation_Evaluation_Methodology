{
  "cells": [
    {
      "cell_type": "markdown",
      "metadata": {},
      "source": [
        "Treinando classificador com dados aumentados com algoritmos classicos"
      ]
    },
    {
      "cell_type": "code",
      "execution_count": null,
      "metadata": {},
      "outputs": [],
      "source": [
        "classifier = trainClassifier(trainImgs, trainLbls, 'classic')\n",
        "runTest(classifier)"
      ]
    },
    {
      "attachments": {},
      "cell_type": "markdown",
      "metadata": {},
      "source": [
        "misturando dados diretos e dados do gerador"
      ]
    },
    {
      "cell_type": "code",
      "execution_count": null,
      "metadata": {},
      "outputs": [],
      "source": [
        "cgenImgOutput, cgenLabelOutput = generateDataCGAN(trainImgs.shape[0])\n",
        "imgs = np.concatenate((cgenImgOutput, trainImgs))\n",
        "lbls = np.concatenate((cgenLabelOutput, trainLbls))\n",
        "\n",
        "(imgs,lbls) = shuffle(imgs,lbls)\n",
        "classifier = trainClassifier(imgs, lbls, 'original+cgan')\n",
        "runTest(classifier)"
      ]
    }
  ],
  "metadata": {
    "colab": {
      "collapsed_sections": [],
      "name": "ganImageAugmentation.ipynb",
      "provenance": []
    },
    "kernelspec": {
      "display_name": "Python 3",
      "language": "python",
      "name": "python3"
    },
    "language_info": {
      "codemirror_mode": {
        "name": "ipython",
        "version": 3
      },
      "file_extension": ".py",
      "mimetype": "text/x-python",
      "name": "python",
      "nbconvert_exporter": "python",
      "pygments_lexer": "ipython3",
      "version": "3.9.13 (main, May 19 2022, 07:22:26)  [GCC 11.3.0 64 bit (AMD64)]"
    },
    "vscode": {
      "interpreter": {
        "hash": "2a8dfe095fce2b5e88c64a2c3ee084c8e0e0d70b23e7b95b1cfb538be294c5c8"
      }
    }
  },
  "nbformat": 4,
  "nbformat_minor": 0
}
